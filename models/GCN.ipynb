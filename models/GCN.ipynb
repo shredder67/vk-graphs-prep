{
 "cells": [
  {
   "cell_type": "markdown",
   "metadata": {},
   "source": [
    "# Graph Convolutional Network"
   ]
  },
  {
   "cell_type": "code",
   "execution_count": 80,
   "metadata": {},
   "outputs": [],
   "source": [
    "import torch\n",
    "import torch_geometric\n",
    "import torch_geometric.nn as pyg_nn\n",
    "import torch.nn as nn\n",
    "import torch.nn.functional as F\n",
    "from torch_geometric.datasets import Twitch, GitHub, GNNBenchmarkDataset\n",
    "import networkx as nkx\n",
    "\n",
    "DEVICE = torch.device('cuda' if torch.cuda.is_available() else 'cpu')"
   ]
  },
  {
   "cell_type": "markdown",
   "metadata": {},
   "source": [
    "## Model"
   ]
  },
  {
   "cell_type": "code",
   "execution_count": 132,
   "metadata": {},
   "outputs": [],
   "source": [
    "class GCN(nn.Module):\n",
    "    def __init__(self, n: int):\n",
    "        \"\"\"\n",
    "        n: int - number of input features of nodes\n",
    "        \"\"\"\n",
    "        super().__init__()\n",
    "        self.conv1 = pyg_nn.GCNConv(n, n // 4)\n",
    "        self.conv2 = pyg_nn.GCNConv(n // 4, n // 8)\n",
    "\n",
    "    def forward(self, data):\n",
    "        x, edge_index = data.x, data.edge_index\n",
    "        x = F.relu(self.conv1(x, edge_index))\n",
    "        x = F.dropout(x, p=0.2, training=self.training)\n",
    "        x = F.relu(self.conv2(x, edge_index))\n",
    "        return x\n",
    "\n",
    "\n",
    "class MLP(nn.Module):\n",
    "    def __init__(self, n: int):\n",
    "        super().__init__()\n",
    "        d1 = int(n**0.5)\n",
    "        self.layer1 = nn.Linear(n, d1)\n",
    "        self.layer2 = nn.Linear(d1, 1)\n",
    "    \n",
    "    def forward(self, x: torch.Tensor):\n",
    "        x = F.relu(self.layer1(x))\n",
    "        x = self.layer2(x)\n",
    "        return torch.sigmoid(x)\n",
    "\n",
    "\n",
    "class GcnMlpClassifier(nn.Module):\n",
    "    def __init__(self, n: int):\n",
    "        super().__init__()\n",
    "        self.gcn = GCN(n)\n",
    "        self.mlp = MLP(n // 8)\n",
    "\n",
    "    def forward(self, data):\n",
    "        x = self.gcn(data)\n",
    "        outs = self.mlp(x)\n",
    "        return outs"
   ]
  },
  {
   "cell_type": "markdown",
   "metadata": {},
   "source": [
    "## Training"
   ]
  },
  {
   "cell_type": "code",
   "execution_count": 93,
   "metadata": {},
   "outputs": [
    {
     "data": {
      "text/plain": [
       "GitHub()"
      ]
     },
     "execution_count": 93,
     "metadata": {},
     "output_type": "execute_result"
    }
   ],
   "source": [
    "github = GitHub(root='../data/GitHub')\n",
    "github"
   ]
  },
  {
   "cell_type": "code",
   "execution_count": 134,
   "metadata": {},
   "outputs": [
    {
     "name": "stderr",
     "output_type": "stream",
     "text": [
      "  0%|          | 7/1500 [00:00<00:42, 34.92it/s]"
     ]
    },
    {
     "name": "stdout",
     "output_type": "stream",
     "text": [
      "\n",
      "epoch 0:\n",
      "tr_loss 0.6272\n",
      "tr_acc: 0.7419                                 \n",
      "val_acc: 0.7440\n"
     ]
    },
    {
     "name": "stderr",
     "output_type": "stream",
     "text": [
      "  7%|▋         | 104/1500 [00:02<00:42, 32.66it/s]"
     ]
    },
    {
     "name": "stdout",
     "output_type": "stream",
     "text": [
      "\n",
      "epoch 100:\n",
      "tr_loss 0.5284\n",
      "tr_acc: 0.8204                                 \n",
      "val_acc: 0.8180\n"
     ]
    },
    {
     "name": "stderr",
     "output_type": "stream",
     "text": [
      " 14%|█▍        | 207/1500 [00:05<00:33, 39.18it/s]"
     ]
    },
    {
     "name": "stdout",
     "output_type": "stream",
     "text": [
      "\n",
      "epoch 200:\n",
      "tr_loss 0.3582\n",
      "tr_acc: 0.8640                                 \n",
      "val_acc: 0.8520\n"
     ]
    },
    {
     "name": "stderr",
     "output_type": "stream",
     "text": [
      " 20%|██        | 307/1500 [00:07<00:30, 39.39it/s]"
     ]
    },
    {
     "name": "stdout",
     "output_type": "stream",
     "text": [
      "\n",
      "epoch 300:\n",
      "tr_loss 0.3316\n",
      "tr_acc: 0.8673                                 \n",
      "val_acc: 0.8540\n"
     ]
    },
    {
     "name": "stderr",
     "output_type": "stream",
     "text": [
      " 27%|██▋       | 405/1500 [00:10<00:27, 39.27it/s]"
     ]
    },
    {
     "name": "stdout",
     "output_type": "stream",
     "text": [
      "\n",
      "epoch 400:\n",
      "tr_loss 0.3198\n",
      "tr_acc: 0.8705                                 \n",
      "val_acc: 0.8540\n"
     ]
    },
    {
     "name": "stderr",
     "output_type": "stream",
     "text": [
      " 34%|███▍      | 509/1500 [00:12<00:24, 40.85it/s]"
     ]
    },
    {
     "name": "stdout",
     "output_type": "stream",
     "text": [
      "\n",
      "epoch 500:\n",
      "tr_loss 0.3108\n",
      "tr_acc: 0.8735                                 \n",
      "val_acc: 0.8500\n"
     ]
    },
    {
     "name": "stderr",
     "output_type": "stream",
     "text": [
      " 41%|████      | 608/1500 [00:15<00:21, 41.16it/s]"
     ]
    },
    {
     "name": "stdout",
     "output_type": "stream",
     "text": [
      "\n",
      "epoch 600:\n",
      "tr_loss 0.3026\n",
      "tr_acc: 0.8765                                 \n",
      "val_acc: 0.8580\n"
     ]
    },
    {
     "name": "stderr",
     "output_type": "stream",
     "text": [
      " 47%|████▋     | 708/1500 [00:17<00:19, 41.13it/s]"
     ]
    },
    {
     "name": "stdout",
     "output_type": "stream",
     "text": [
      "\n",
      "epoch 700:\n",
      "tr_loss 0.2946\n",
      "tr_acc: 0.8802                                 \n",
      "val_acc: 0.8620\n"
     ]
    },
    {
     "name": "stderr",
     "output_type": "stream",
     "text": [
      " 54%|█████▍    | 807/1500 [00:19<00:16, 41.04it/s]"
     ]
    },
    {
     "name": "stdout",
     "output_type": "stream",
     "text": [
      "\n",
      "epoch 800:\n",
      "tr_loss 0.2863\n",
      "tr_acc: 0.8847                                 \n",
      "val_acc: 0.8660\n"
     ]
    },
    {
     "name": "stderr",
     "output_type": "stream",
     "text": [
      " 60%|██████    | 906/1500 [00:22<00:14, 40.97it/s]"
     ]
    },
    {
     "name": "stdout",
     "output_type": "stream",
     "text": [
      "\n",
      "epoch 900:\n",
      "tr_loss 0.2771\n",
      "tr_acc: 0.8891                                 \n",
      "val_acc: 0.8680\n"
     ]
    },
    {
     "name": "stderr",
     "output_type": "stream",
     "text": [
      " 67%|██████▋   | 1006/1500 [00:24<00:12, 41.06it/s]"
     ]
    },
    {
     "name": "stdout",
     "output_type": "stream",
     "text": [
      "\n",
      "epoch 1000:\n",
      "tr_loss 0.2683\n",
      "tr_acc: 0.8928                                 \n",
      "val_acc: 0.8560\n"
     ]
    },
    {
     "name": "stderr",
     "output_type": "stream",
     "text": [
      " 74%|███████▎  | 1105/1500 [00:27<00:10, 36.89it/s]"
     ]
    },
    {
     "name": "stdout",
     "output_type": "stream",
     "text": [
      "\n",
      "epoch 1100:\n",
      "tr_loss 0.2597\n",
      "tr_acc: 0.8968                                 \n",
      "val_acc: 0.8560\n"
     ]
    },
    {
     "name": "stderr",
     "output_type": "stream",
     "text": [
      " 81%|████████  | 1208/1500 [00:29<00:07, 38.65it/s]"
     ]
    },
    {
     "name": "stdout",
     "output_type": "stream",
     "text": [
      "\n",
      "epoch 1200:\n",
      "tr_loss 0.2509\n",
      "tr_acc: 0.8999                                 \n",
      "val_acc: 0.8480\n"
     ]
    },
    {
     "name": "stderr",
     "output_type": "stream",
     "text": [
      " 87%|████████▋ | 1308/1500 [00:32<00:04, 40.01it/s]"
     ]
    },
    {
     "name": "stdout",
     "output_type": "stream",
     "text": [
      "\n",
      "epoch 1300:\n",
      "tr_loss 0.2431\n",
      "tr_acc: 0.9038                                 \n",
      "val_acc: 0.8500\n"
     ]
    },
    {
     "name": "stderr",
     "output_type": "stream",
     "text": [
      " 94%|█████████▍| 1408/1500 [00:34<00:02, 40.14it/s]"
     ]
    },
    {
     "name": "stdout",
     "output_type": "stream",
     "text": [
      "\n",
      "epoch 1400:\n",
      "tr_loss 0.2359\n",
      "tr_acc: 0.9067                                 \n",
      "val_acc: 0.8540\n"
     ]
    },
    {
     "name": "stderr",
     "output_type": "stream",
     "text": [
      "100%|██████████| 1500/1500 [00:36<00:00, 40.84it/s]\n"
     ]
    }
   ],
   "source": [
    "from common import train_model, eval_model, plot_hist\n",
    "\n",
    "from torch_geometric.transforms import RandomNodeSplit\n",
    "torch.manual_seed(84)\n",
    "\n",
    "model = GcnMlpClassifier(github.num_features).to(DEVICE)\n",
    "data = RandomNodeSplit()(github.data.to(DEVICE))\n",
    "data.y = data.y.to(torch.float32) # for loss computation\n",
    "optimizer = torch.optim.Adam(model.parameters(), lr=5e-4, weight_decay=1e-4)\n",
    "loss = nn.BCELoss()\n",
    "\n",
    "train_hist = train_model(model, loss, optimizer, data, epochs=1500, eval_freq=100)"
   ]
  },
  {
   "cell_type": "code",
   "execution_count": 135,
   "metadata": {},
   "outputs": [
    {
     "data": {
      "image/png": "[encoded data removed]",
      "text/plain": [
       "<Figure size 1300x500 with 2 Axes>"
      ]
     },
     "metadata": {},
     "output_type": "display_data"
    }
   ],
   "source": [
    "import matplotlib.pyplot as plt\n",
    "\n",
    "def plot_hist(train_loss_hist, train_acc_hist, eval_acc_hist, eval_freq):\n",
    "    fig, (ax1, ax2) = plt.subplots(1, 2, figsize=(13, 5))\n",
    "    ax1.plot(train_loss_hist, label='train loss')\n",
    "    ax2.plot(train_acc_hist, label='train accuracy')\n",
    "    ax2.plot(range(0, len(train_acc_hist), eval_freq), eval_acc_hist, label='eval accuracy')\n",
    "    plt.suptitle('Training process on github data')\n",
    "    plt.legend()\n",
    "    plt.show()\n",
    "\n",
    "plot_hist(*train_hist, 100)"
   ]
  },
  {
   "cell_type": "code",
   "execution_count": 115,
   "metadata": {},
   "outputs": [
    {
     "name": "stderr",
     "output_type": "stream",
     "text": [
      "Downloading https://graphmining.ai/datasets/ptg/twitch/EN.npz\n",
      "Processing...\n",
      "Done!\n"
     ]
    },
    {
     "data": {
      "text/plain": [
       "Data(x=[7126, 128], edge_index=[2, 77774], y=[7126])"
      ]
     },
     "execution_count": 115,
     "metadata": {},
     "output_type": "execute_result"
    }
   ],
   "source": [
    "twitch = Twitch(root='../data/Twitch', name='EN')\n",
    "twitch.data"
   ]
  },
  {
   "cell_type": "code",
   "execution_count": 137,
   "metadata": {},
   "outputs": [
    {
     "name": "stderr",
     "output_type": "stream",
     "text": [
      "  1%|          | 17/2000 [00:00<00:23, 84.23it/s]"
     ]
    },
    {
     "name": "stdout",
     "output_type": "stream",
     "text": [
      "\n",
      "epoch 0:\n",
      "tr_loss 0.6935\n",
      "tr_acc: 0.4623                                 \n",
      "val_acc: 0.5000\n"
     ]
    },
    {
     "name": "stderr",
     "output_type": "stream",
     "text": [
      " 11%|█         | 216/2000 [00:02<00:19, 90.28it/s]"
     ]
    },
    {
     "name": "stdout",
     "output_type": "stream",
     "text": [
      "\n",
      "epoch 200:\n",
      "tr_loss 0.4759\n",
      "tr_acc: 0.7970                                 \n",
      "val_acc: 0.5740\n"
     ]
    },
    {
     "name": "stderr",
     "output_type": "stream",
     "text": [
      " 21%|██        | 412/2000 [00:04<00:17, 89.12it/s]"
     ]
    },
    {
     "name": "stdout",
     "output_type": "stream",
     "text": [
      "\n",
      "epoch 400:\n",
      "tr_loss 0.3446\n",
      "tr_acc: 0.8718                                 \n",
      "val_acc: 0.5560\n"
     ]
    },
    {
     "name": "stderr",
     "output_type": "stream",
     "text": [
      " 31%|███       | 611/2000 [00:06<00:16, 84.03it/s]"
     ]
    },
    {
     "name": "stdout",
     "output_type": "stream",
     "text": [
      "\n",
      "epoch 600:\n",
      "tr_loss 0.2828\n",
      "tr_acc: 0.8967                                 \n",
      "val_acc: 0.5560\n"
     ]
    },
    {
     "name": "stderr",
     "output_type": "stream",
     "text": [
      " 41%|████      | 815/2000 [00:09<00:15, 75.60it/s]"
     ]
    },
    {
     "name": "stdout",
     "output_type": "stream",
     "text": [
      "\n",
      "epoch 800:\n",
      "tr_loss 0.2417\n",
      "tr_acc: 0.9028                                 \n",
      "val_acc: 0.5560\n"
     ]
    },
    {
     "name": "stderr",
     "output_type": "stream",
     "text": [
      " 51%|█████     | 1015/2000 [00:12<00:14, 70.34it/s]"
     ]
    },
    {
     "name": "stdout",
     "output_type": "stream",
     "text": [
      "\n",
      "epoch 1000:\n",
      "tr_loss 0.2088\n",
      "tr_acc: 0.9108                                 \n",
      "val_acc: 0.5680\n"
     ]
    },
    {
     "name": "stderr",
     "output_type": "stream",
     "text": [
      " 60%|██████    | 1209/2000 [00:14<00:10, 76.86it/s]"
     ]
    },
    {
     "name": "stdout",
     "output_type": "stream",
     "text": [
      "\n",
      "epoch 1200:\n",
      "tr_loss 0.1827\n",
      "tr_acc: 0.9118                                 \n",
      "val_acc: 0.5680\n"
     ]
    },
    {
     "name": "stderr",
     "output_type": "stream",
     "text": [
      " 71%|███████   | 1411/2000 [00:17<00:07, 74.98it/s]"
     ]
    },
    {
     "name": "stdout",
     "output_type": "stream",
     "text": [
      "\n",
      "epoch 1400:\n",
      "tr_loss 0.1660\n",
      "tr_acc: 0.9127                                 \n",
      "val_acc: 0.5620\n"
     ]
    },
    {
     "name": "stderr",
     "output_type": "stream",
     "text": [
      " 81%|████████  | 1618/2000 [00:19<00:04, 85.23it/s]"
     ]
    },
    {
     "name": "stdout",
     "output_type": "stream",
     "text": [
      "\n",
      "epoch 1600:\n",
      "tr_loss 0.1512\n",
      "tr_acc: 0.9387                                 \n",
      "val_acc: 0.5440\n"
     ]
    },
    {
     "name": "stderr",
     "output_type": "stream",
     "text": [
      " 91%|█████████ | 1815/2000 [00:22<00:02, 87.10it/s]"
     ]
    },
    {
     "name": "stdout",
     "output_type": "stream",
     "text": [
      "\n",
      "epoch 1800:\n",
      "tr_loss 0.1419\n",
      "tr_acc: 0.9410                                 \n",
      "val_acc: 0.5380\n"
     ]
    },
    {
     "name": "stderr",
     "output_type": "stream",
     "text": [
      "100%|██████████| 2000/2000 [00:24<00:00, 81.20it/s]\n"
     ]
    },
    {
     "data": {
      "image/png": "[encoded data removed]",
      "text/plain": [
       "<Figure size 1300x500 with 2 Axes>"
      ]
     },
     "metadata": {},
     "output_type": "display_data"
    }
   ],
   "source": [
    "torch.manual_seed(42)\n",
    "\n",
    "model = GcnMlpClassifier(twitch.num_features).to(DEVICE)\n",
    "data = RandomNodeSplit()(twitch.data.to(DEVICE))\n",
    "data.y = data.y.to(torch.float32) # for loss computation\n",
    "optimizer = torch.optim.Adam(model.parameters(), lr=3e-3, weight_decay=1e-3)\n",
    "loss = nn.BCELoss()\n",
    "\n",
    "train_hist = train_model(model, loss, optimizer, data, epochs=2000, eval_freq=200)\n",
    "plot_hist(*train_hist, eval_freq=200)"
   ]
  },
  {
   "cell_type": "markdown",
   "metadata": {},
   "source": [
    "## Benchmarks"
   ]
  },
  {
   "cell_type": "code",
   "execution_count": null,
   "metadata": {},
   "outputs": [],
   "source": []
  }
 ],
 "metadata": {
  "kernelspec": {
   "display_name": "Python 3.9.13 ('ml-graphs')",
   "language": "python",
   "name": "python3"
  },
  "language_info": {
   "codemirror_mode": {
    "name": "ipython",
    "version": 3
   },
   "file_extension": ".py",
   "mimetype": "text/x-python",
   "name": "python",
   "nbconvert_exporter": "python",
   "pygments_lexer": "ipython3",
   "version": "3.9.13"
  },
  "orig_nbformat": 4,
  "vscode": {
   "interpreter": {
    "hash": "00617b05dac1bb4f8f6b8d16a25f807b784f8fca84bbbf148936934fecec2b04"
   }
  }
 },
 "nbformat": 4,
 "nbformat_minor": 2
}
