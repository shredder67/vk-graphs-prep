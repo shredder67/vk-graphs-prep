{
 "cells": [
  {
   "cell_type": "code",
   "execution_count": 10,
   "metadata": {},
   "outputs": [],
   "source": [
    "import torch\n",
    "import torch_geometric\n",
    "import torch_geometric.nn as pyg_nn\n",
    "import torch.nn as nn\n",
    "import torch.nn.functional as F\n",
    "from torch_geometric.datasets import Twitch, GitHub, GNNBenchmarkDataset\n",
    "import networkx as nkx\n",
    "\n",
    "from common import train_model, eval_model, plot_hist\n",
    "\n",
    "DEVICE = torch.device('cuda' if torch.cuda.is_available() else 'cpu')"
   ]
  },
  {
   "cell_type": "markdown",
   "metadata": {},
   "source": [
    "# Model"
   ]
  },
  {
   "cell_type": "code",
   "execution_count": 2,
   "metadata": {},
   "outputs": [],
   "source": [
    "class GatClassifier(nn.Module):\n",
    "    def __init__(self, input_features: int, hid:int):\n",
    "        super().__init__()\n",
    "        self.conv1 = pyg_nn.GATConv(input_features, hid, dropout=0.5)\n",
    "        self.conv2 = pyg_nn.GATConv(hid, out_channels=1, concat=False)\n",
    "\n",
    "    def forward(self, data):\n",
    "        x, edge_index = data.x, data.edge_index\n",
    "        x = F.elu(self.conv1(x, edge_index))\n",
    "        x = self.conv2(x, edge_index)\n",
    "        return torch.sigmoid(x)"
   ]
  },
  {
   "cell_type": "markdown",
   "metadata": {},
   "source": [
    "# Training"
   ]
  },
  {
   "cell_type": "code",
   "execution_count": 4,
   "metadata": {},
   "outputs": [
    {
     "data": {
      "text/plain": [
       "Data(x=[37700, 128], edge_index=[2, 578006], y=[37700])"
      ]
     },
     "execution_count": 4,
     "metadata": {},
     "output_type": "execute_result"
    }
   ],
   "source": [
    "github = GitHub('../data/GitHub')\n",
    "github.data"
   ]
  },
  {
   "cell_type": "code",
   "execution_count": 11,
   "metadata": {},
   "outputs": [
    {
     "name": "stderr",
     "output_type": "stream",
     "text": [
      "  1%|          | 9/1500 [00:00<00:34, 43.67it/s]"
     ]
    },
    {
     "name": "stdout",
     "output_type": "stream",
     "text": [
      "\n",
      "epoch 0:\n",
      "tr_loss 0.7796\n",
      "tr_acc: 0.3480                                 \n",
      "val_acc: 0.3640\n"
     ]
    },
    {
     "name": "stderr",
     "output_type": "stream",
     "text": [
      "  7%|▋         | 110/1500 [00:02<00:29, 46.75it/s]"
     ]
    },
    {
     "name": "stdout",
     "output_type": "stream",
     "text": [
      "\n",
      "epoch 100:\n",
      "tr_loss 0.3983\n",
      "tr_acc: 0.8403                                 \n",
      "val_acc: 0.8580\n"
     ]
    },
    {
     "name": "stderr",
     "output_type": "stream",
     "text": [
      " 14%|█▎        | 205/1500 [00:04<00:28, 45.06it/s]"
     ]
    },
    {
     "name": "stdout",
     "output_type": "stream",
     "text": [
      "\n",
      "epoch 200:\n",
      "tr_loss 0.3547\n",
      "tr_acc: 0.8559                                 \n",
      "val_acc: 0.8760\n"
     ]
    },
    {
     "name": "stderr",
     "output_type": "stream",
     "text": [
      " 20%|██        | 307/1500 [00:06<00:25, 45.96it/s]"
     ]
    },
    {
     "name": "stdout",
     "output_type": "stream",
     "text": [
      "\n",
      "epoch 300:\n",
      "tr_loss 0.3425\n",
      "tr_acc: 0.8598                                 \n",
      "val_acc: 0.8800\n"
     ]
    },
    {
     "name": "stderr",
     "output_type": "stream",
     "text": [
      " 27%|██▋       | 407/1500 [00:08<00:23, 46.93it/s]"
     ]
    },
    {
     "name": "stdout",
     "output_type": "stream",
     "text": [
      "\n",
      "epoch 400:\n",
      "tr_loss 0.3350\n",
      "tr_acc: 0.8636                                 \n",
      "val_acc: 0.8840\n"
     ]
    },
    {
     "name": "stderr",
     "output_type": "stream",
     "text": [
      " 34%|███▍      | 509/1500 [00:11<00:20, 47.24it/s]"
     ]
    },
    {
     "name": "stdout",
     "output_type": "stream",
     "text": [
      "\n",
      "epoch 500:\n",
      "tr_loss 0.3292\n",
      "tr_acc: 0.8652                                 \n",
      "val_acc: 0.8900\n"
     ]
    },
    {
     "name": "stderr",
     "output_type": "stream",
     "text": [
      " 41%|████      | 610/1500 [00:13<00:18, 47.01it/s]"
     ]
    },
    {
     "name": "stdout",
     "output_type": "stream",
     "text": [
      "\n",
      "epoch 600:\n",
      "tr_loss 0.3243\n",
      "tr_acc: 0.8665                                 \n",
      "val_acc: 0.8880\n"
     ]
    },
    {
     "name": "stderr",
     "output_type": "stream",
     "text": [
      " 47%|████▋     | 710/1500 [00:15<00:17, 46.43it/s]"
     ]
    },
    {
     "name": "stdout",
     "output_type": "stream",
     "text": [
      "\n",
      "epoch 700:\n",
      "tr_loss 0.3204\n",
      "tr_acc: 0.8677                                 \n",
      "val_acc: 0.8900\n"
     ]
    },
    {
     "name": "stderr",
     "output_type": "stream",
     "text": [
      " 54%|█████▍    | 807/1500 [00:17<00:14, 46.42it/s]"
     ]
    },
    {
     "name": "stdout",
     "output_type": "stream",
     "text": [
      "\n",
      "epoch 800:\n",
      "tr_loss 0.3176\n",
      "tr_acc: 0.8690                                 \n",
      "val_acc: 0.8880\n"
     ]
    },
    {
     "name": "stderr",
     "output_type": "stream",
     "text": [
      " 61%|██████    | 908/1500 [00:19<00:13, 44.13it/s]"
     ]
    },
    {
     "name": "stdout",
     "output_type": "stream",
     "text": [
      "\n",
      "epoch 900:\n",
      "tr_loss 0.3154\n",
      "tr_acc: 0.8701                                 \n",
      "val_acc: 0.8920\n"
     ]
    },
    {
     "name": "stderr",
     "output_type": "stream",
     "text": [
      " 67%|██████▋   | 1008/1500 [00:21<00:10, 45.80it/s]"
     ]
    },
    {
     "name": "stdout",
     "output_type": "stream",
     "text": [
      "\n",
      "epoch 1000:\n",
      "tr_loss 0.3136\n",
      "tr_acc: 0.8712                                 \n",
      "val_acc: 0.8900\n"
     ]
    },
    {
     "name": "stderr",
     "output_type": "stream",
     "text": [
      " 74%|███████▎  | 1103/1500 [00:24<00:09, 44.05it/s]"
     ]
    },
    {
     "name": "stdout",
     "output_type": "stream",
     "text": [
      "\n",
      "epoch 1100:\n",
      "tr_loss 0.3119\n",
      "tr_acc: 0.8719                                 \n",
      "val_acc: 0.8880\n"
     ]
    },
    {
     "name": "stderr",
     "output_type": "stream",
     "text": [
      " 81%|████████  | 1209/1500 [00:26<00:06, 44.41it/s]"
     ]
    },
    {
     "name": "stdout",
     "output_type": "stream",
     "text": [
      "\n",
      "epoch 1200:\n",
      "tr_loss 0.3102\n",
      "tr_acc: 0.8718                                 \n",
      "val_acc: 0.8840\n"
     ]
    },
    {
     "name": "stderr",
     "output_type": "stream",
     "text": [
      " 87%|████████▋ | 1309/1500 [00:28<00:04, 44.81it/s]"
     ]
    },
    {
     "name": "stdout",
     "output_type": "stream",
     "text": [
      "\n",
      "epoch 1300:\n",
      "tr_loss 0.3088\n",
      "tr_acc: 0.8727                                 \n",
      "val_acc: 0.8860\n"
     ]
    },
    {
     "name": "stderr",
     "output_type": "stream",
     "text": [
      " 94%|█████████▎| 1406/1500 [00:31<00:02, 40.85it/s]"
     ]
    },
    {
     "name": "stdout",
     "output_type": "stream",
     "text": [
      "\n",
      "epoch 1400:\n",
      "tr_loss 0.3075\n",
      "tr_acc: 0.8730                                 \n",
      "val_acc: 0.8860\n"
     ]
    },
    {
     "name": "stderr",
     "output_type": "stream",
     "text": [
      "100%|██████████| 1500/1500 [00:33<00:00, 44.70it/s]\n"
     ]
    }
   ],
   "source": [
    "from torch_geometric.transforms import RandomNodeSplit\n",
    "torch.manual_seed(84)\n",
    "\n",
    "model = GatClassifier(github.num_features, hid=16).to(DEVICE)\n",
    "data = RandomNodeSplit()(github.data.to(DEVICE))\n",
    "data.y = data.y.to(torch.float32) # for loss computation\n",
    "optimizer = torch.optim.Adam(model.parameters(), lr=5e-4, weight_decay=1e-4)\n",
    "loss = nn.BCELoss()\n",
    "eval_frequency = 100\n",
    "\n",
    "train_hist = train_model(model, loss, optimizer, data, epochs=1500, eval_freq=eval_frequency, device=DEVICE)"
   ]
  },
  {
   "cell_type": "code",
   "execution_count": 12,
   "metadata": {},
   "outputs": [
    {
     "data": {
      "image/png": "[encoded data removed]",
      "text/plain": [
       "<Figure size 1300x500 with 2 Axes>"
      ]
     },
     "metadata": {},
     "output_type": "display_data"
    }
   ],
   "source": [
    "plot_hist(*train_hist, eval_frequency)"
   ]
  },
  {
   "cell_type": "code",
   "execution_count": 14,
   "metadata": {},
   "outputs": [
    {
     "name": "stderr",
     "output_type": "stream",
     "text": [
      "Downloading https://graphmining.ai/datasets/ptg/twitch/EN.npz\n",
      "Processing...\n",
      "Done!\n"
     ]
    },
    {
     "data": {
      "text/plain": [
       "Data(x=[7126, 128], edge_index=[2, 77774], y=[7126])"
      ]
     },
     "execution_count": 14,
     "metadata": {},
     "output_type": "execute_result"
    }
   ],
   "source": [
    "twitch = Twitch(root='../data/Twitch', name='EN')\n",
    "twitch.data"
   ]
  },
  {
   "cell_type": "code",
   "execution_count": 15,
   "metadata": {},
   "outputs": [
    {
     "name": "stderr",
     "output_type": "stream",
     "text": [
      "  1%|          | 16/1500 [00:00<00:18, 80.81it/s]"
     ]
    },
    {
     "name": "stdout",
     "output_type": "stream",
     "text": [
      "\n",
      "epoch 0:\n",
      "tr_loss 0.7392\n",
      "tr_acc: 0.4865                                 \n",
      "val_acc: 0.4820\n"
     ]
    },
    {
     "name": "stderr",
     "output_type": "stream",
     "text": [
      "  7%|▋         | 110/1500 [00:01<00:16, 86.09it/s]"
     ]
    },
    {
     "name": "stdout",
     "output_type": "stream",
     "text": [
      "\n",
      "epoch 100:\n",
      "tr_loss 0.6575\n",
      "tr_acc: 0.6102                                 \n",
      "val_acc: 0.5740\n"
     ]
    },
    {
     "name": "stderr",
     "output_type": "stream",
     "text": [
      " 15%|█▍        | 218/1500 [00:02<00:14, 87.99it/s]"
     ]
    },
    {
     "name": "stdout",
     "output_type": "stream",
     "text": [
      "\n",
      "epoch 200:\n",
      "tr_loss 0.6318\n",
      "tr_acc: 0.6397                                 \n",
      "val_acc: 0.5820\n"
     ]
    },
    {
     "name": "stderr",
     "output_type": "stream",
     "text": [
      " 21%|██        | 312/1500 [00:03<00:13, 84.92it/s]"
     ]
    },
    {
     "name": "stdout",
     "output_type": "stream",
     "text": [
      "\n",
      "epoch 300:\n",
      "tr_loss 0.6145\n",
      "tr_acc: 0.6539                                 \n",
      "val_acc: 0.5700\n"
     ]
    },
    {
     "name": "stderr",
     "output_type": "stream",
     "text": [
      " 28%|██▊       | 417/1500 [00:04<00:12, 89.56it/s]"
     ]
    },
    {
     "name": "stdout",
     "output_type": "stream",
     "text": [
      "\n",
      "epoch 400:\n",
      "tr_loss 0.5987\n",
      "tr_acc: 0.6740                                 \n",
      "val_acc: 0.5700\n"
     ]
    },
    {
     "name": "stderr",
     "output_type": "stream",
     "text": [
      " 34%|███▍      | 512/1500 [00:05<00:11, 83.03it/s]"
     ]
    },
    {
     "name": "stdout",
     "output_type": "stream",
     "text": [
      "\n",
      "epoch 500:\n",
      "tr_loss 0.5800\n",
      "tr_acc: 0.6932                                 \n",
      "val_acc: 0.5660\n"
     ]
    },
    {
     "name": "stderr",
     "output_type": "stream",
     "text": [
      " 40%|████      | 607/1500 [00:07<00:11, 80.60it/s]"
     ]
    },
    {
     "name": "stdout",
     "output_type": "stream",
     "text": [
      "\n",
      "epoch 600:\n",
      "tr_loss 0.5589\n",
      "tr_acc: 0.7128                                 \n",
      "val_acc: 0.5580\n"
     ]
    },
    {
     "name": "stderr",
     "output_type": "stream",
     "text": [
      " 47%|████▋     | 709/1500 [00:08<00:09, 84.99it/s]"
     ]
    },
    {
     "name": "stdout",
     "output_type": "stream",
     "text": [
      "\n",
      "epoch 700:\n",
      "tr_loss 0.5347\n",
      "tr_acc: 0.7309                                 \n",
      "val_acc: 0.5620\n"
     ]
    },
    {
     "name": "stderr",
     "output_type": "stream",
     "text": [
      " 54%|█████▍    | 808/1500 [00:09<00:08, 84.84it/s]"
     ]
    },
    {
     "name": "stdout",
     "output_type": "stream",
     "text": [
      "\n",
      "epoch 800:\n",
      "tr_loss 0.5104\n",
      "tr_acc: 0.7524                                 \n",
      "val_acc: 0.5580\n"
     ]
    },
    {
     "name": "stderr",
     "output_type": "stream",
     "text": [
      " 61%|██████    | 911/1500 [00:10<00:06, 89.53it/s]"
     ]
    },
    {
     "name": "stdout",
     "output_type": "stream",
     "text": [
      "\n",
      "epoch 900:\n",
      "tr_loss 0.4874\n",
      "tr_acc: 0.7648                                 \n",
      "val_acc: 0.5420\n"
     ]
    },
    {
     "name": "stderr",
     "output_type": "stream",
     "text": [
      " 68%|██████▊   | 1017/1500 [00:11<00:06, 80.12it/s]"
     ]
    },
    {
     "name": "stdout",
     "output_type": "stream",
     "text": [
      "\n",
      "epoch 1000:\n",
      "tr_loss 0.4684\n",
      "tr_acc: 0.7812                                 \n",
      "val_acc: 0.5420\n"
     ]
    },
    {
     "name": "stderr",
     "output_type": "stream",
     "text": [
      " 74%|███████▍  | 1113/1500 [00:12<00:04, 87.45it/s]"
     ]
    },
    {
     "name": "stdout",
     "output_type": "stream",
     "text": [
      "\n",
      "epoch 1100:\n",
      "tr_loss 0.4519\n",
      "tr_acc: 0.7931                                 \n",
      "val_acc: 0.5520\n"
     ]
    },
    {
     "name": "stderr",
     "output_type": "stream",
     "text": [
      " 81%|████████  | 1210/1500 [00:14<00:03, 81.49it/s]"
     ]
    },
    {
     "name": "stdout",
     "output_type": "stream",
     "text": [
      "\n",
      "epoch 1200:\n",
      "tr_loss 0.4364\n",
      "tr_acc: 0.8057                                 \n",
      "val_acc: 0.5460\n"
     ]
    },
    {
     "name": "stderr",
     "output_type": "stream",
     "text": [
      " 88%|████████▊ | 1316/1500 [00:15<00:02, 88.92it/s]"
     ]
    },
    {
     "name": "stdout",
     "output_type": "stream",
     "text": [
      "\n",
      "epoch 1300:\n",
      "tr_loss 0.4226\n",
      "tr_acc: 0.8159                                 \n",
      "val_acc: 0.5500\n"
     ]
    },
    {
     "name": "stderr",
     "output_type": "stream",
     "text": [
      " 94%|█████████▍| 1410/1500 [00:16<00:01, 81.40it/s]"
     ]
    },
    {
     "name": "stdout",
     "output_type": "stream",
     "text": [
      "\n",
      "epoch 1400:\n",
      "tr_loss 0.4092\n",
      "tr_acc: 0.8263                                 \n",
      "val_acc: 0.5440\n"
     ]
    },
    {
     "name": "stderr",
     "output_type": "stream",
     "text": [
      "100%|██████████| 1500/1500 [00:17<00:00, 86.66it/s]\n"
     ]
    }
   ],
   "source": [
    "from torch_geometric.transforms import RandomNodeSplit\n",
    "torch.manual_seed(84)\n",
    "\n",
    "model = GatClassifier(twitch.num_features, hid=16).to(DEVICE)\n",
    "data = RandomNodeSplit()(twitch.data.to(DEVICE))\n",
    "data.y = data.y.to(torch.float32) # for loss computation\n",
    "optimizer = torch.optim.Adam(model.parameters(), lr=5e-4, weight_decay=1e-4)\n",
    "loss = nn.BCELoss()\n",
    "eval_frequency = 100\n",
    "\n",
    "train_hist = train_model(model, loss, optimizer, data, epochs=1500, eval_freq=eval_frequency, device=DEVICE)"
   ]
  }
 ],
 "metadata": {
  "kernelspec": {
   "display_name": "Python 3.9.13 ('ml-graphs')",
   "language": "python",
   "name": "python3"
  },
  "language_info": {
   "name": "python",
   "version": "3.9.13"
  },
  "orig_nbformat": 4,
  "vscode": {
   "interpreter": {
    "hash": "00617b05dac1bb4f8f6b8d16a25f807b784f8fca84bbbf148936934fecec2b04"
   }
  }
 },
 "nbformat": 4,
 "nbformat_minor": 2
}
